{
  "cells": [
    {
      "cell_type": "markdown",
      "metadata": {
        "id": "alZX9XCVYtSW"
      },
      "source": [
        "# MetaVoice 1B\n",
        "\n",
        "https://github.com/metavoiceio/metavoice-src\n",
        "\n",
        "notebook made for A100 GPU"
      ]
    },
    {
      "cell_type": "code",
      "execution_count": null,
      "metadata": {
        "colab": {
          "base_uri": "https://localhost:8080/"
        },
        "id": "BXdd1DyPLl4i",
        "outputId": "69e6055f-ec97-47e0-9e8d-9a9ac24ffc72"
      },
      "outputs": [],
      "source": [
        "! git clone https://github.com/metavoiceio/metavoice-src.git"
      ]
    },
    {
      "cell_type": "code",
      "execution_count": null,
      "metadata": {
        "colab": {
          "base_uri": "https://localhost:8080/"
        },
        "id": "zIyyoxp0L5rp",
        "outputId": "5c3a7ea5-687e-4ef9-8469-04c52c314083"
      },
      "outputs": [],
      "source": [
        "%cd metavoice-src"
      ]
    },
    {
      "cell_type": "code",
      "execution_count": null,
      "metadata": {
        "colab": {
          "base_uri": "https://localhost:8080/"
        },
        "id": "zOG1A_KtUbPP",
        "outputId": "00290985-81b3-403d-d335-99fabec9f26a"
      },
      "outputs": [],
      "source": [
        "ls"
      ]
    },
    {
      "cell_type": "code",
      "execution_count": null,
      "metadata": {
        "colab": {
          "base_uri": "https://localhost:8080/"
        },
        "id": "eWEFhtFLUbRh",
        "outputId": "9d339d65-3f09-439c-d8f1-f521ca90b675"
      },
      "outputs": [],
      "source": [
        "!pip -q install -r requirements.txt"
      ]
    },
    {
      "cell_type": "code",
      "execution_count": null,
      "metadata": {
        "colab": {
          "base_uri": "https://localhost:8080/"
        },
        "id": "yN0esQVKUbTd",
        "outputId": "1c8aeb14-630e-4723-a3b9-786879fb2f77"
      },
      "outputs": [],
      "source": [
        "ls"
      ]
    },
    {
      "cell_type": "code",
      "execution_count": null,
      "metadata": {
        "colab": {
          "base_uri": "https://localhost:8080/"
        },
        "id": "st89SufcVX52",
        "outputId": "96ba64ee-5bb0-4635-ed8b-c6c7a23b0eaf"
      },
      "outputs": [],
      "source": [
        "%cd metavoice-src"
      ]
    },
    {
      "cell_type": "code",
      "execution_count": null,
      "metadata": {
        "colab": {
          "base_uri": "https://localhost:8080/"
        },
        "id": "XJvrEWohV0Sm",
        "outputId": "c9382ba8-b605-4dce-b3e3-f2dd7ebf9861"
      },
      "outputs": [],
      "source": [
        "ls"
      ]
    },
    {
      "cell_type": "code",
      "execution_count": null,
      "metadata": {
        "id": "g2W81Yq_hazX"
      },
      "outputs": [],
      "source": [
        "!mkdir /content/sams_samples/\n",
        "!mkdir /content/voice_clones/"
      ]
    },
    {
      "cell_type": "code",
      "execution_count": null,
      "metadata": {
        "id": "bcQr2Xf7hdZa"
      },
      "outputs": [],
      "source": [
        "import subprocess\n",
        "\n",
        "def run_text_to_speech(huggingface_repo_id, spk_cond_path, text, temperature, guidance_scale):\n",
        "    # Construct the command string with the provided arguments\n",
        "    command = f\"\"\"\n",
        "    python -m fam.llm.sample --huggingface_repo_id=\"{huggingface_repo_id}\" \\\n",
        "        --spk_cond_path=\"{spk_cond_path}\" \\\n",
        "        --text=\"{text}\" \\\n",
        "        --temperature={temperature} \\\n",
        "        --dtype=\"bfloat16\" \\\n",
        "        --guidance_scale={float(guidance_scale)} \\\n",
        "        --num_samples=1 \\\n",
        "        --output_dir=\"/content/sams_samples\"\n",
        "    \"\"\"\n",
        "\n",
        "    # Execute the command\n",
        "    result = subprocess.run(command, shell=True, check=True, stdout=subprocess.PIPE, stderr=subprocess.PIPE)\n",
        "\n",
        "    # Decode and print the output and errors, if any\n",
        "    stdout = result.stdout.decode('utf-8')\n",
        "    stderr = result.stderr.decode('utf-8')\n",
        "\n",
        "    # print(\"Output:\", stdout)\n",
        "    if stderr:\n",
        "        # print(\"Error:\", stderr)\n",
        "        pass\n",
        "\n"
      ]
    },
    {
      "cell_type": "code",
      "execution_count": null,
      "metadata": {
        "id": "jymmh_wxyKK7"
      },
      "outputs": [],
      "source": [
        "# Example usage\n",
        "huggingface_repo_id = \"metavoiceio/metavoice-1B-v0.1\"\n",
        "spk_cond_path = \"/content/voice_clones/30_zuck.mp3\" #\"assets/ava.flac\"\n",
        "text = \"Hi Sam. This is a demo of text to speech by MetaVoice-1B, an open-source foundational audio model by MetaVoice. \"\n",
        "temperature = 1.0\n",
        "guidance_scale = 5.0\n",
        "\n",
        "run_text_to_speech(huggingface_repo_id, spk_cond_path, text, temperature, guidance_scale)\n"
      ]
    },
    {
      "cell_type": "code",
      "execution_count": null,
      "metadata": {
        "colab": {
          "base_uri": "https://localhost:8080/",
          "height": 243
        },
        "id": "hUYoZ8-6fhU5",
        "outputId": "48b56fe8-5a10-4a1f-c173-8d649e1d94ca"
      },
      "outputs": [],
      "source": [
        "import os\n",
        "from IPython.display import Audio, display\n",
        "\n",
        "# Define the directory containing the audio files\n",
        "audio_dir = '/content/sams_samples'\n",
        "\n",
        "# Function to display audio files\n",
        "def play_audio_files(directory):\n",
        "    # List all files in the directory\n",
        "    files = os.listdir(directory)\n",
        "\n",
        "    # Filter for audio files (assuming .wav and .mp3 extensions for simplicity)\n",
        "    audio_files = [file for file in files if file.endswith('.wav') or file.endswith('.mp3')]\n",
        "\n",
        "    if not audio_files:\n",
        "        print(\"No audio files found in the directory.\")\n",
        "        return\n",
        "\n",
        "    # Display an audio player for each audio file\n",
        "    for audio_file in audio_files:\n",
        "        # print(f\"Playing: {audio_file}\")\n",
        "        display(Audio(os.path.join(directory, audio_file)))\n",
        "\n",
        "# get the audios\n",
        "play_audio_files(audio_dir)\n"
      ]
    },
    {
      "cell_type": "code",
      "execution_count": null,
      "metadata": {
        "id": "NZfZx_ZPoLor"
      },
      "outputs": [],
      "source": [
        "# Example usage\n",
        "\n",
        "spk_cond_path = \"/content/voice_clones/30_lex_fridman.wav\" #\"assets/ava.flac\"\n",
        "text = \"Hi Sam. This is a demo of text to speech by MetaVoice-1B, an open-source foundational audio model by MetaVoice. \"\n",
        "temperature = 1.0\n",
        "guidance_scale = 5.0\n",
        "\n",
        "run_text_to_speech(huggingface_repo_id, spk_cond_path, text, temperature, guidance_scale)\n"
      ]
    },
    {
      "cell_type": "code",
      "execution_count": null,
      "metadata": {
        "id": "xa92yIzXpVLe"
      },
      "outputs": [],
      "source": [
        "spk_cond_path = \"assets/ava.flac\"\n",
        "guidance_scale = 3\n",
        "temperature = 0.5\n",
        "\n",
        "run_text_to_speech(huggingface_repo_id, spk_cond_path, text, temperature, guidance_scale)\n"
      ]
    },
    {
      "cell_type": "code",
      "execution_count": null,
      "metadata": {
        "colab": {
          "base_uri": "https://localhost:8080/",
          "height": 319
        },
        "id": "dQlYhYDMpbnn",
        "outputId": "a89b009b-9631-4bf7-d85f-4f3de870402d"
      },
      "outputs": [],
      "source": [
        "# get the audios\n",
        "play_audio_files(audio_dir)"
      ]
    },
    {
      "cell_type": "code",
      "execution_count": null,
      "metadata": {
        "id": "8eRmACwXakrI"
      },
      "outputs": [],
      "source": [
        "spk_cond_path = \"/content/voice_clones/30_zuck.mp3\"\n",
        "guidance_scale = 3\n",
        "temperature = 0.5\n",
        "\n",
        "run_text_to_speech(huggingface_repo_id, spk_cond_path, text, temperature, guidance_scale)"
      ]
    },
    {
      "cell_type": "code",
      "execution_count": null,
      "metadata": {
        "colab": {
          "base_uri": "https://localhost:8080/",
          "height": 394
        },
        "id": "g84haCnRhdbk",
        "outputId": "21de0739-a179-4367-f73f-9f47f83e440a"
      },
      "outputs": [],
      "source": [
        "play_audio_files(audio_dir)"
      ]
    },
    {
      "cell_type": "code",
      "execution_count": null,
      "metadata": {
        "id": "BDJNEZTBhddZ"
      },
      "outputs": [],
      "source": [
        "spk_cond_path = \"/content/voice_clones/30_zuck.mp3\"\n",
        "guidance_scale = 5\n",
        "temperature = 0.3\n",
        "\n",
        "run_text_to_speech(huggingface_repo_id, spk_cond_path, text, temperature, guidance_scale)"
      ]
    },
    {
      "cell_type": "code",
      "execution_count": null,
      "metadata": {
        "colab": {
          "base_uri": "https://localhost:8080/",
          "height": 469
        },
        "id": "0aaENm5phdfb",
        "outputId": "2c151446-42c4-4d30-d25e-d1de31d139d0"
      },
      "outputs": [],
      "source": [
        "play_audio_files(audio_dir)"
      ]
    },
    {
      "cell_type": "code",
      "execution_count": null,
      "metadata": {
        "id": "HeVtBQLczNWi"
      },
      "outputs": [],
      "source": [
        "spk_cond_path = \"/content/voice_clones/30_lex_fridman.wav\"\n",
        "guidance_scale = 5\n",
        "temperature = 0.3\n",
        "\n",
        "run_text_to_speech(huggingface_repo_id, spk_cond_path, text, temperature, guidance_scale)"
      ]
    },
    {
      "cell_type": "code",
      "execution_count": null,
      "metadata": {
        "colab": {
          "background_save": true,
          "base_uri": "https://localhost:8080/",
          "height": 545
        },
        "id": "3aeao1fLzpKn",
        "outputId": "65a69185-743a-49ed-8f16-c1d6970399ec"
      },
      "outputs": [],
      "source": [
        "play_audio_files(audio_dir)"
      ]
    },
    {
      "cell_type": "code",
      "execution_count": null,
      "metadata": {
        "id": "MJ2kcwQ80yyk"
      },
      "outputs": [],
      "source": []
    }
  ],
  "metadata": {
    "accelerator": "GPU",
    "colab": {
      "machine_shape": "hm",
      "provenance": []
    },
    "kernelspec": {
      "display_name": "Python 3",
      "name": "python3"
    },
    "language_info": {
      "name": "python"
    }
  },
  "nbformat": 4,
  "nbformat_minor": 0
}
